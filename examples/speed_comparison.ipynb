{
 "cells": [
  {
   "cell_type": "code",
   "execution_count": 1,
   "metadata": {},
   "outputs": [],
   "source": [
    "import dtaidistance as dtai\n",
    "import rust_dtw\n",
    "import numpy as np\n",
    "%load_ext snakeviz"
   ]
  },
  {
   "cell_type": "code",
   "execution_count": 2,
   "metadata": {},
   "outputs": [
    {
     "name": "stderr",
     "output_type": "stream",
     "text": [
      "/home/fleetwood/miniconda3/envs/dtw/lib/python3.6/site-packages/nilearn/datasets/__init__.py:90: FutureWarning: Fetchers from the nilearn.datasets module will be updated in version 0.9 to return python strings instead of bytes and Pandas dataframes instead of Numpy arrays.\n",
      "  \"Numpy arrays.\", FutureWarning)\n"
     ]
    }
   ],
   "source": [
    "from nilearn import datasets\n",
    "\n",
    "development_dataset = datasets.fetch_development_fmri()"
   ]
  },
  {
   "cell_type": "code",
   "execution_count": 3,
   "metadata": {},
   "outputs": [
    {
     "name": "stderr",
     "output_type": "stream",
     "text": [
      "/home/fleetwood/miniconda3/envs/dtw/lib/python3.6/site-packages/numpy/lib/npyio.py:2349: VisibleDeprecationWarning: Reading unicode strings without specifying the encoding argument is deprecated. Set the encoding, use None for the system default.\n",
      "  output = genfromtxt(fname, **kwargs)\n"
     ]
    }
   ],
   "source": [
    "from nilearn.input_data import NiftiMapsMasker\n",
    "\n",
    "msdl_data = datasets.fetch_atlas_msdl()\n",
    "msdl_coords = msdl_data.region_coords\n",
    "\n",
    "masker = NiftiMapsMasker(\n",
    "    msdl_data.maps, resampling_target=\"data\", t_r=2, detrend=True,\n",
    "    low_pass=.1, high_pass=.01, memory='nilearn_cache', memory_level=1).fit()\n",
    "masked_data = [masker.transform(func, confounds) for\n",
    "               (func, confounds) in zip(\n",
    "                   development_dataset.func, development_dataset.confounds)]"
   ]
  },
  {
   "cell_type": "code",
   "execution_count": 4,
   "metadata": {},
   "outputs": [],
   "source": [
    "from sklearn.preprocessing import StandardScaler\n",
    "#normalizing to zero mean and unit std as per \n",
    "normalized = []\n",
    "for masked in masked_data:\n",
    "    normalized.append(StandardScaler().fit_transform(masked))\n",
    "\n",
    "normalized=np.array(normalized)"
   ]
  },
  {
   "cell_type": "code",
   "execution_count": 5,
   "metadata": {},
   "outputs": [],
   "source": [
    "#Now we need to accurately time how long it takes for each of them to compute the matricies\n",
    "def compute_rust_dtw(timeseries):\n",
    "    #implement rust_dtw\n",
    "    connectomes = rust_dtw.dtw_connectomes(\n",
    "        connectomes=timeseries, \n",
    "        window=1200, \n",
    "        vectorize=False, \n",
    "        distance_mode=\"euclidean\"\n",
    "    )\n",
    "    return connectomes\n",
    "\n",
    "\n",
    "def compute_dtai(timeseries):\n",
    "    #implement rust_dtw\n",
    "    connectomes = []\n",
    "    for ts in timeseries:\n",
    "        ds = dtai.dtw.distance_matrix_fast(ts.T, compact=False, use_mp=True)\n",
    "        connectomes.append(ds)\n",
    "    return connectomes"
   ]
  },
  {
   "cell_type": "code",
   "execution_count": 6,
   "metadata": {},
   "outputs": [],
   "source": [
    "rust_dtw_result = compute_rust_dtw(normalized)\n",
    "dtai_result = compute_dtai(normalized)\n",
    "\n",
    "np.testing.assert_almost_equal(rust_dtw_result, dtai_result)"
   ]
  },
  {
   "cell_type": "code",
   "execution_count": 7,
   "metadata": {
    "scrolled": false,
    "tags": [
     "outputPrepend"
    ]
   },
   "outputs": [
    {
     "name": "stdout",
     "output_type": "stream",
     "text": [
      " \n",
      "*** Profile stats marshalled to file '/tmp/tmpn3r74e92'. \n",
      "Embedding SnakeViz in this document...\n"
     ]
    },
    {
     "data": {
      "text/html": [
       "\n",
       "<iframe id='snakeviz-3540a06e-d149-11eb-b55f-257d6a5fa494' frameborder=0 seamless width='100%' height='1000'></iframe>\n",
       "<script>document.getElementById(\"snakeviz-3540a06e-d149-11eb-b55f-257d6a5fa494\").setAttribute(\"src\", \"http://\" + document.location.hostname + \":8080/snakeviz/%2Ftmp%2Ftmpn3r74e92\")</script>\n"
      ],
      "text/plain": [
       "<IPython.core.display.HTML object>"
      ]
     },
     "metadata": {},
     "output_type": "display_data"
    }
   ],
   "source": [
    "%snakeviz compute_rust_dtw(normalized)"
   ]
  },
  {
   "cell_type": "code",
   "execution_count": 8,
   "metadata": {},
   "outputs": [
    {
     "name": "stdout",
     "output_type": "stream",
     "text": [
      " \n",
      "*** Profile stats marshalled to file '/tmp/tmpu4wnvyz2'. \n",
      "Embedding SnakeViz in this document...\n"
     ]
    },
    {
     "data": {
      "text/html": [
       "\n",
       "<iframe id='snakeviz-45143e10-d149-11eb-b55f-257d6a5fa494' frameborder=0 seamless width='100%' height='1000'></iframe>\n",
       "<script>document.getElementById(\"snakeviz-45143e10-d149-11eb-b55f-257d6a5fa494\").setAttribute(\"src\", \"http://\" + document.location.hostname + \":8080/snakeviz/%2Ftmp%2Ftmpu4wnvyz2\")</script>\n"
      ],
      "text/plain": [
       "<IPython.core.display.HTML object>"
      ]
     },
     "metadata": {},
     "output_type": "display_data"
    }
   ],
   "source": [
    "%snakeviz compute_dtai(normalized)"
   ]
  },
  {
   "cell_type": "markdown",
   "metadata": {},
   "source": [
    "As we can see, we achieve a 5x speedup compared to DTAIDistance Python OpenMP implementation. If you can get the C version to compile (I certainly can't) please submit a PR."
   ]
  }
 ],
 "metadata": {
  "kernelspec": {
   "display_name": "Python [conda env:dtw]",
   "language": "python",
   "name": "conda-env-dtw-py"
  },
  "language_info": {
   "codemirror_mode": {
    "name": "ipython",
    "version": 3
   },
   "file_extension": ".py",
   "mimetype": "text/x-python",
   "name": "python",
   "nbconvert_exporter": "python",
   "pygments_lexer": "ipython3",
   "version": "3.6.13"
  }
 },
 "nbformat": 4,
 "nbformat_minor": 2
}
