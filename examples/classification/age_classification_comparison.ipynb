{
 "cells": [
  {
   "cell_type": "code",
   "execution_count": 1,
   "id": "marked-jones",
   "metadata": {},
   "outputs": [],
   "source": [
    "#Modified version of the following script from nilearn: \n",
    "#https://nilearn.github.io/auto_examples/03_connectivity/plot_group_level_connectivity.html\n",
    "from nilearn import datasets\n",
    "from tqdm.notebook import tqdm\n",
    "\n",
    "development_dataset = datasets.fetch_development_fmri()"
   ]
  },
  {
   "cell_type": "code",
   "execution_count": 2,
   "id": "mighty-mitchell",
   "metadata": {},
   "outputs": [
    {
     "name": "stderr",
     "output_type": "stream",
     "text": [
      "/home/fleetwood/miniconda3/lib/python3.6/site-packages/numpy/lib/npyio.py:2349: VisibleDeprecationWarning: Reading unicode strings without specifying the encoding argument is deprecated. Set the encoding, use None for the system default.\n",
      "  output = genfromtxt(fname, **kwargs)\n"
     ]
    }
   ],
   "source": [
    "from nilearn import input_data\n",
    "\n",
    "msdl_data = datasets.fetch_atlas_msdl()\n",
    "masker = input_data.NiftiMapsMasker(\n",
    "    msdl_data.maps, resampling_target=\"data\", t_r=2, detrend=True,\n",
    "    low_pass=.1, high_pass=.01, memory='nilearn_cache', memory_level=1).fit()"
   ]
  },
  {
   "cell_type": "code",
   "execution_count": 3,
   "id": "weekly-balance",
   "metadata": {},
   "outputs": [
    {
     "data": {
      "application/vnd.jupyter.widget-view+json": {
       "model_id": "47f269cfc2b54b24b4207fa8bda2fb7c",
       "version_major": 2,
       "version_minor": 0
      },
      "text/plain": [
       "0it [00:00, ?it/s]"
      ]
     },
     "metadata": {},
     "output_type": "display_data"
    },
    {
     "name": "stdout",
     "output_type": "stream",
     "text": [
      "Data has 122 children.\n"
     ]
    }
   ],
   "source": [
    "children = []\n",
    "pooled_subjects = []\n",
    "groups = []  # child or adult\n",
    "for func_file, confound_file, phenotypic in tqdm(zip(\n",
    "        development_dataset.func,\n",
    "        development_dataset.confounds,\n",
    "        development_dataset.phenotypic)):\n",
    "    time_series = masker.transform(func_file, confounds=confound_file)\n",
    "    pooled_subjects.append(time_series)\n",
    "    if phenotypic['Child_Adult'] == 'child':\n",
    "        children.append(time_series)\n",
    "    groups.append(phenotypic['Child_Adult'])\n",
    "\n",
    "print('Data has {0} children.'.format(len(children)))"
   ]
  },
  {
   "cell_type": "code",
   "execution_count": 4,
   "id": "stainless-revelation",
   "metadata": {},
   "outputs": [
    {
     "name": "stdout",
     "output_type": "stream",
     "text": [
      "PROCESSING:  dtw\n",
      "PROCESSING:  correlation\n",
      "PROCESSING:  partial correlation\n",
      "PROCESSING:  tangent\n"
     ]
    }
   ],
   "source": [
    "from sklearn.svm import LinearSVC\n",
    "from sklearn.model_selection import StratifiedShuffleSplit\n",
    "from sklearn.metrics import accuracy_score\n",
    "from nilearn.connectome import ConnectivityMeasure\n",
    "import rust_dtw\n",
    "import numpy as np\n",
    "\n",
    "kinds = ['dtw', 'correlation', 'partial correlation', 'tangent']\n",
    "_, classes = np.unique(groups, return_inverse=True)\n",
    "cv = StratifiedShuffleSplit(n_splits=15, random_state=0, test_size=5)\n",
    "pooled_subjects = np.asarray(pooled_subjects)\n",
    "\n",
    "scores = {}\n",
    "for kind in kinds:\n",
    "    print('PROCESSING: ', kind)\n",
    "    scores[kind] = []\n",
    "    for train, test in cv.split(pooled_subjects, classes):\n",
    "        # *ConnectivityMeasure* can output the estimated subjects coefficients\n",
    "        # as a 1D arrays through the parameter *vectorize*.\n",
    "        if kind == 'dtw':\n",
    "            connectomes = rust_dtw.dtw_connectomes(\n",
    "                connectomes=pooled_subjects[train], \n",
    "                window=100, \n",
    "                vectorize=True, \n",
    "                distance_mode=\"euclidean\"\n",
    "            )\n",
    "            test_connectomes = rust_dtw.dtw_connectomes(\n",
    "                connectomes=pooled_subjects[test], \n",
    "                window=100, \n",
    "                vectorize=True, \n",
    "                distance_mode=\"euclidean\"\n",
    "            )\n",
    "        else:\n",
    "            connectivity = ConnectivityMeasure(kind=kind, vectorize=True)\n",
    "            connectomes = connectivity.fit_transform(pooled_subjects[train])\n",
    "            test_connectomes = connectivity.transform(pooled_subjects[test])\n",
    "            \n",
    "        classifier = LinearSVC(max_iter=10000).fit(connectomes, classes[train])\n",
    "        # make predictions for the left-out test subjects\n",
    "        predictions = classifier.predict(test_connectomes)\n",
    "        \n",
    "        # store the accuracy for this cross-validation fold\n",
    "        scores[kind].append(accuracy_score(classes[test], predictions))"
   ]
  },
  {
   "cell_type": "code",
   "execution_count": 5,
   "id": "indian-calibration",
   "metadata": {},
   "outputs": [
    {
     "name": "stdout",
     "output_type": "stream",
     "text": [
      "[(0.9466666666666668, 'dtw'), (0.9066666666666667, 'correlation'), (0.92, 'partial correlation'), (0.9600000000000001, 'tangent')]\n"
     ]
    },
    {
     "data": {
      "image/png": "[encoded data removed]",
      "text/plain": [
       "<Figure size 720x576 with 1 Axes>"
      ]
     },
     "metadata": {
      "needs_background": "light"
     },
     "output_type": "display_data"
    }
   ],
   "source": [
    "import matplotlib.pyplot as plt\n",
    "mean_scores = [np.mean(scores[kind]) for kind in kinds]\n",
    "print(list(zip(mean_scores, kinds) ))\n",
    "scores_std = [np.std(scores[kind]) for kind in kinds]\n",
    "\n",
    "plt.figure(figsize=(10, 8))\n",
    "positions = np.arange(len(kinds)) * .1 + .1\n",
    "plt.barh(positions, mean_scores, align='center', height=.05, xerr=scores_std)\n",
    "yticks = [k.replace(' ', '\\n') for k in kinds]\n",
    "plt.yticks(positions, yticks)\n",
    "plt.gca().grid(True)\n",
    "plt.gca().set_axisbelow(True)\n",
    "plt.gca().axvline(.8, color='red', linestyle='--')\n",
    "plt.xlabel('Classification accuracy\\n(red line = chance level)')\n",
    "plt.tight_layout()"
   ]
  },
  {
   "cell_type": "code",
   "execution_count": null,
   "id": "billion-charter",
   "metadata": {},
   "outputs": [],
   "source": []
  }
 ],
 "metadata": {
  "kernelspec": {
   "display_name": "Python 3",
   "language": "python",
   "name": "python3"
  },
  "language_info": {
   "codemirror_mode": {
    "name": "ipython",
    "version": 3
   },
   "file_extension": ".py",
   "mimetype": "text/x-python",
   "name": "python",
   "nbconvert_exporter": "python",
   "pygments_lexer": "ipython3",
   "version": "3.6.10"
  }
 },
 "nbformat": 4,
 "nbformat_minor": 5
}
