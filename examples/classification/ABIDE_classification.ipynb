{
 "cells": [
  {
   "cell_type": "code",
   "execution_count": 38,
   "id": "spare-number",
   "metadata": {
    "scrolled": false
   },
   "outputs": [
    {
     "name": "stderr",
     "output_type": "stream",
     "text": [
      "/home/fleetwood/miniconda3/lib/python3.6/site-packages/numpy/lib/npyio.py:2349: VisibleDeprecationWarning: Reading unicode strings without specifying the encoding argument is deprecated. Set the encoding, use None for the system default.\n",
      "  output = genfromtxt(fname, **kwargs)\n"
     ]
    }
   ],
   "source": [
    "#Modified version of the following script from nilearn: \n",
    "#https://nilearn.github.io/auto_examples/03_connectivity/plot_group_level_connectivity.html\n",
    "from nilearn import datasets\n",
    "from tqdm.notebook import tqdm\n",
    "\n",
    "abide_dataset = datasets.fetch_abide_pcp(n_subjects=200)"
   ]
  },
  {
   "cell_type": "code",
   "execution_count": 39,
   "id": "frank-glenn",
   "metadata": {
    "scrolled": false
   },
   "outputs": [
    {
     "data": {
      "text/plain": [
       "dict_keys(['description', 'phenotypic', 'func_preproc'])"
      ]
     },
     "execution_count": 39,
     "metadata": {},
     "output_type": "execute_result"
    }
   ],
   "source": [
    "abide_dataset.keys()"
   ]
  },
  {
   "cell_type": "code",
   "execution_count": 40,
   "id": "difficult-multiple",
   "metadata": {},
   "outputs": [],
   "source": [
    "from nilearn import input_data\n",
    "\n",
    "msdl_data = datasets.fetch_atlas_msdl()\n",
    "masker = input_data.NiftiMapsMasker(\n",
    "    msdl_data.maps, resampling_target=\"data\", t_r=2, detrend=True,\n",
    "    low_pass=.1, high_pass=.01, memory='nilearn_cache', memory_level=1).fit()"
   ]
  },
  {
   "cell_type": "code",
   "execution_count": 41,
   "id": "cardiac-canadian",
   "metadata": {},
   "outputs": [
    {
     "data": {
      "application/vnd.jupyter.widget-view+json": {
       "model_id": "a60c254988fb400fa8c08d47ff36a3ca",
       "version_major": 2,
       "version_minor": 0
      },
      "text/plain": [
       "0it [00:00, ?it/s]"
      ]
     },
     "metadata": {},
     "output_type": "display_data"
    },
    {
     "name": "stdout",
     "output_type": "stream",
     "text": [
      "Dataset has 200 subjects\n"
     ]
    }
   ],
   "source": [
    "pooled_subjects = []\n",
    "groups = []\n",
    "for func_file, dx in tqdm(zip(abide_dataset['func_preproc'], abide_dataset['phenotypic']['DX_GROUP'])):\n",
    "    time_series = masker.transform(func_file)\n",
    "    pooled_subjects.append(time_series)\n",
    "    groups.append(dx)\n",
    "\n",
    "print(f'Dataset has {len(pooled_subjects)} subjects')"
   ]
  },
  {
   "cell_type": "code",
   "execution_count": 42,
   "id": "substantial-meditation",
   "metadata": {},
   "outputs": [],
   "source": [
    "n_regions = pooled_subjects[0].shape[1]"
   ]
  },
  {
   "cell_type": "code",
   "execution_count": 43,
   "id": "cardiovascular-equivalent",
   "metadata": {},
   "outputs": [],
   "source": [
    "def sym_matrix_to_vec(symmetric):\n",
    "    tril_mask = np.tril(np.ones(symmetric.shape[-2:]), k=-1).astype(np.bool)\n",
    "    return symmetric[..., tril_mask]"
   ]
  },
  {
   "cell_type": "code",
   "execution_count": 44,
   "id": "natural-editing",
   "metadata": {},
   "outputs": [],
   "source": [
    "def compute_dtw(subjects, n_regions):\n",
    "    dtw_output = []\n",
    "    for subj in subjects:\n",
    "        dtw_output.append(\n",
    "            rust_dtw.dtw_connectome(\n",
    "            connectome=subj,\n",
    "            window=100, \n",
    "            distance_mode=\"euclidean\")\n",
    "        )\n",
    "    connectomes = []\n",
    "    #Post processing them as per paper recommendations\n",
    "    for vec in dtw_output:\n",
    "        sym = np.zeros((n_regions, n_regions))\n",
    "        sym[i_lower] = vec\n",
    "        sym += sym.T\n",
    "        sym *= -1\n",
    "        StandardScaler().fit_transform(sym)\n",
    "        connectomes.append(sym_matrix_to_vec(sym))\n",
    "    return connectomes"
   ]
  },
  {
   "cell_type": "code",
   "execution_count": 45,
   "id": "structured-defensive",
   "metadata": {
    "scrolled": false
   },
   "outputs": [
    {
     "name": "stdout",
     "output_type": "stream",
     "text": [
      "PROCESSING:  dtw\n"
     ]
    },
    {
     "name": "stderr",
     "output_type": "stream",
     "text": [
      "/home/fleetwood/miniconda3/lib/python3.6/site-packages/numpy/core/_asarray.py:83: VisibleDeprecationWarning: Creating an ndarray from ragged nested sequences (which is a list-or-tuple of lists-or-tuples-or ndarrays with different lengths or shapes) is deprecated. If you meant to do this, you must specify 'dtype=object' when creating the ndarray\n",
      "  return array(a, dtype, copy=False, order=order)\n"
     ]
    },
    {
     "name": "stdout",
     "output_type": "stream",
     "text": [
      "PROCESSING:  correlation\n",
      "PROCESSING:  partial correlation\n",
      "PROCESSING:  tangent\n"
     ]
    }
   ],
   "source": [
    "from sklearn.svm import LinearSVC\n",
    "from sklearn.model_selection import StratifiedShuffleSplit\n",
    "from sklearn.preprocessing import StandardScaler\n",
    "from sklearn.metrics import accuracy_score\n",
    "from nilearn.connectome import ConnectivityMeasure\n",
    "import matplotlib.pyplot as plt\n",
    "import rust_dtw\n",
    "import numpy as np\n",
    "import copy\n",
    "\n",
    "kinds = ['dtw', 'correlation', 'partial correlation', 'tangent']\n",
    "# kinds = ['correlation']\n",
    "_, classes = np.unique(groups, return_inverse=True)\n",
    "cv = StratifiedShuffleSplit(n_splits=15, random_state=0, test_size=5)\n",
    "pooled_subjects = np.asarray(pooled_subjects)\n",
    "\n",
    "scores = {}\n",
    "for kind in kinds:\n",
    "    print('PROCESSING: ', kind)\n",
    "    scores[kind] = []\n",
    "    for train, test in cv.split(pooled_subjects, classes):\n",
    "        if kind == 'dtw':            \n",
    "            connectomes = compute_dtw(pooled_subjects[train], n_regions)\n",
    "            test_connectomes = compute_dtw(pooled_subjects[test], n_regions)\n",
    "        else:\n",
    "            connectivity = ConnectivityMeasure(kind=kind, vectorize=True)\n",
    "            connectomes = connectivity.fit_transform(pooled_subjects[train])\n",
    "            test_connectomes = connectivity.transform(pooled_subjects[test])\n",
    "            \n",
    "        classifier = LinearSVC(max_iter=10000).fit(connectomes, classes[train])\n",
    "        # make predictions for the left-out test subjects\n",
    "        predictions = classifier.predict(test_connectomes)\n",
    "        \n",
    "        # store the accuracy for this cross-validation fold\n",
    "        scores[kind].append(accuracy_score(classes[test], predictions))"
   ]
  },
  {
   "cell_type": "code",
   "execution_count": 52,
   "id": "optical-satisfaction",
   "metadata": {},
   "outputs": [
    {
     "name": "stdout",
     "output_type": "stream",
     "text": [
      "[(0.6933333333333332, 'dtw'), (0.6400000000000001, 'correlation'), (0.6133333333333334, 'partial correlation'), (0.6933333333333332, 'tangent')]\n"
     ]
    },
    {
     "data": {
      "image/png": "[encoded data removed]",
      "text/plain": [
       "<Figure size 1080x720 with 1 Axes>"
      ]
     },
     "metadata": {},
     "output_type": "display_data"
    }
   ],
   "source": [
    "import matplotlib.pyplot as plt\n",
    "import seaborn\n",
    "plt.style.use('seaborn-white')\n",
    "seaborn.set_context('poster')\n",
    "mean_scores = [np.mean(scores[kind]) for kind in kinds]\n",
    "print(list(zip(mean_scores, kinds) ))\n",
    "scores_std = [np.std(scores[kind]) for kind in kinds]\n",
    "\n",
    "plt.figure(figsize=(15, 10))\n",
    "positions = np.arange(len(kinds)) * .1 + .1\n",
    "plt.barh(positions, mean_scores, align='center', height=.05, xerr=scores_std)\n",
    "yticks = [k.replace(' ', '\\n') for k in kinds]\n",
    "plt.yticks(positions, yticks)\n",
    "plt.gca().grid(True)\n",
    "plt.gca().set_axisbelow(True)\n",
    "plt.xlabel('Classification accuracy')\n",
    "plt.tight_layout()\n",
    "plt.savefig('accuracy.png', bbox_inches=\"tight\", dpi=300)"
   ]
  },
  {
   "cell_type": "code",
   "execution_count": null,
   "id": "perfect-surveillance",
   "metadata": {},
   "outputs": [],
   "source": []
  }
 ],
 "metadata": {
  "kernelspec": {
   "display_name": "Python 3",
   "language": "python",
   "name": "python3"
  },
  "language_info": {
   "codemirror_mode": {
    "name": "ipython",
    "version": 3
   },
   "file_extension": ".py",
   "mimetype": "text/x-python",
   "name": "python",
   "nbconvert_exporter": "python",
   "pygments_lexer": "ipython3",
   "version": "3.6.10"
  }
 },
 "nbformat": 4,
 "nbformat_minor": 5
}
