{
 "cells": [
  {
   "cell_type": "code",
   "execution_count": 3,
   "id": "spare-number",
   "metadata": {
    "scrolled": false
   },
   "outputs": [],
   "source": [
    "#Modified version of the following script from nilearn: \n",
    "#https://nilearn.github.io/auto_examples/03_connectivity/plot_group_level_connectivity.html\n",
    "from nilearn import datasets\n",
    "from tqdm.notebook import tqdm\n",
    "\n",
    "abide_dataset = datasets.fetch_abide_pcp(n_subjects=200)"
   ]
  },
  {
   "cell_type": "code",
   "execution_count": 11,
   "id": "frank-glenn",
   "metadata": {
    "scrolled": false
   },
   "outputs": [
    {
     "data": {
      "text/plain": [
       "dict_keys(['description', 'phenotypic', 'func_preproc'])"
      ]
     },
     "execution_count": 11,
     "metadata": {},
     "output_type": "execute_result"
    }
   ],
   "source": [
    "abide_dataset.keys()"
   ]
  },
  {
   "cell_type": "code",
   "execution_count": 20,
   "id": "difficult-multiple",
   "metadata": {},
   "outputs": [
    {
     "name": "stderr",
     "output_type": "stream",
     "text": [
      "/home/fleetwood/miniconda3/lib/python3.6/site-packages/numpy/lib/npyio.py:2349: VisibleDeprecationWarning: Reading unicode strings without specifying the encoding argument is deprecated. Set the encoding, use None for the system default.\n",
      "  output = genfromtxt(fname, **kwargs)\n"
     ]
    }
   ],
   "source": [
    "from nilearn import input_data\n",
    "\n",
    "msdl_data = datasets.fetch_atlas_msdl()\n",
    "masker = input_data.NiftiMapsMasker(\n",
    "    msdl_data.maps, resampling_target=\"data\", t_r=2, detrend=True,\n",
    "    low_pass=.1, high_pass=.01, memory='nilearn_cache', memory_level=1).fit()"
   ]
  },
  {
   "cell_type": "code",
   "execution_count": 21,
   "id": "cardiac-canadian",
   "metadata": {},
   "outputs": [
    {
     "data": {
      "application/vnd.jupyter.widget-view+json": {
       "model_id": "ff312cd1ea494c188b7c4b2a694c82ab",
       "version_major": 2,
       "version_minor": 0
      },
      "text/plain": [
       "0it [00:00, ?it/s]"
      ]
     },
     "metadata": {},
     "output_type": "display_data"
    },
    {
     "name": "stdout",
     "output_type": "stream",
     "text": [
      "Dataset has 200 subjects\n"
     ]
    }
   ],
   "source": [
    "pooled_subjects = []\n",
    "groups = []\n",
    "for func_file, dx in tqdm(zip(abide_dataset['func_preproc'], abide_dataset['phenotypic']['DX_GROUP'])):\n",
    "    time_series = masker.transform(func_file)\n",
    "    pooled_subjects.append(time_series)\n",
    "    groups.append(dx)\n",
    "\n",
    "print(f'Dataset has {len(pooled_subjects)} subjects')"
   ]
  },
  {
   "cell_type": "code",
   "execution_count": 38,
   "id": "varied-federation",
   "metadata": {},
   "outputs": [
    {
     "name": "stdout",
     "output_type": "stream",
     "text": [
      "(196, 39)\n",
      "(196, 39)\n",
      "(196, 39)\n",
      "(196, 39)\n",
      "(196, 39)\n",
      "(196, 39)\n",
      "(196, 39)\n",
      "(196, 39)\n",
      "(196, 39)\n",
      "(196, 39)\n",
      "(196, 39)\n",
      "(196, 39)\n",
      "(196, 39)\n",
      "(196, 39)\n",
      "(196, 39)\n",
      "(196, 39)\n",
      "(196, 39)\n",
      "(196, 39)\n",
      "(196, 39)\n",
      "(196, 39)\n",
      "(196, 39)\n",
      "(196, 39)\n",
      "(196, 39)\n",
      "(196, 39)\n",
      "(196, 39)\n",
      "(196, 39)\n",
      "(196, 39)\n",
      "(196, 39)\n",
      "(196, 39)\n",
      "(196, 39)\n",
      "(196, 39)\n",
      "(196, 39)\n",
      "(196, 39)\n",
      "(196, 39)\n",
      "(196, 39)\n",
      "(196, 39)\n",
      "(196, 39)\n",
      "(196, 39)\n",
      "(196, 39)\n",
      "(196, 39)\n",
      "(196, 39)\n",
      "(196, 39)\n",
      "(196, 39)\n",
      "(196, 39)\n",
      "(196, 39)\n",
      "(196, 39)\n",
      "(196, 39)\n",
      "(196, 39)\n",
      "(196, 39)\n",
      "(196, 39)\n",
      "(206, 39)\n",
      "(206, 39)\n",
      "(206, 39)\n",
      "(206, 39)\n",
      "(206, 39)\n",
      "(206, 39)\n",
      "(206, 39)\n",
      "(206, 39)\n",
      "(206, 39)\n",
      "(206, 39)\n",
      "(206, 39)\n",
      "(206, 39)\n",
      "(206, 39)\n",
      "(206, 39)\n",
      "(206, 39)\n",
      "(206, 39)\n",
      "(206, 39)\n",
      "(206, 39)\n",
      "(206, 39)\n",
      "(206, 39)\n",
      "(206, 39)\n",
      "(206, 39)\n",
      "(206, 39)\n",
      "(206, 39)\n",
      "(206, 39)\n",
      "(206, 39)\n",
      "(206, 39)\n",
      "(206, 39)\n",
      "(78, 39)\n",
      "(78, 39)\n",
      "(78, 39)\n",
      "(78, 39)\n",
      "(78, 39)\n",
      "(78, 39)\n",
      "(78, 39)\n",
      "(78, 39)\n",
      "(78, 39)\n",
      "(78, 39)\n",
      "(78, 39)\n",
      "(78, 39)\n",
      "(78, 39)\n",
      "(78, 39)\n",
      "(78, 39)\n",
      "(78, 39)\n",
      "(78, 39)\n",
      "(78, 39)\n",
      "(78, 39)\n",
      "(78, 39)\n",
      "(78, 39)\n",
      "(78, 39)\n",
      "(78, 39)\n",
      "(78, 39)\n",
      "(78, 39)\n",
      "(176, 39)\n",
      "(176, 39)\n",
      "(176, 39)\n",
      "(176, 39)\n",
      "(176, 39)\n",
      "(176, 39)\n",
      "(176, 39)\n",
      "(176, 39)\n",
      "(176, 39)\n",
      "(176, 39)\n",
      "(176, 39)\n",
      "(176, 39)\n",
      "(176, 39)\n",
      "(176, 39)\n",
      "(176, 39)\n",
      "(176, 39)\n",
      "(176, 39)\n",
      "(176, 39)\n",
      "(176, 39)\n",
      "(176, 39)\n",
      "(176, 39)\n",
      "(176, 39)\n",
      "(176, 39)\n",
      "(176, 39)\n",
      "(176, 39)\n",
      "(176, 39)\n",
      "(176, 39)\n",
      "(146, 39)\n",
      "(146, 39)\n",
      "(146, 39)\n",
      "(146, 39)\n",
      "(146, 39)\n",
      "(146, 39)\n",
      "(146, 39)\n",
      "(146, 39)\n",
      "(146, 39)\n",
      "(146, 39)\n",
      "(146, 39)\n",
      "(146, 39)\n",
      "(146, 39)\n",
      "(146, 39)\n",
      "(146, 39)\n",
      "(146, 39)\n",
      "(146, 39)\n",
      "(146, 39)\n",
      "(146, 39)\n",
      "(146, 39)\n",
      "(146, 39)\n",
      "(146, 39)\n",
      "(146, 39)\n",
      "(146, 39)\n",
      "(146, 39)\n",
      "(146, 39)\n",
      "(146, 39)\n",
      "(146, 39)\n",
      "(146, 39)\n",
      "(146, 39)\n",
      "(146, 39)\n",
      "(146, 39)\n",
      "(146, 39)\n",
      "(296, 39)\n",
      "(296, 39)\n",
      "(296, 39)\n",
      "(296, 39)\n",
      "(296, 39)\n",
      "(296, 39)\n",
      "(296, 39)\n",
      "(296, 39)\n",
      "(296, 39)\n",
      "(296, 39)\n",
      "(296, 39)\n",
      "(296, 39)\n",
      "(296, 39)\n",
      "(296, 39)\n",
      "(296, 39)\n",
      "(296, 39)\n",
      "(296, 39)\n",
      "(296, 39)\n",
      "(296, 39)\n",
      "(296, 39)\n",
      "(296, 39)\n",
      "(296, 39)\n",
      "(296, 39)\n",
      "(296, 39)\n",
      "(296, 39)\n",
      "(296, 39)\n",
      "(296, 39)\n",
      "(296, 39)\n",
      "(296, 39)\n",
      "(296, 39)\n",
      "(296, 39)\n",
      "(296, 39)\n",
      "(296, 39)\n",
      "(296, 39)\n",
      "(296, 39)\n",
      "(296, 39)\n",
      "(296, 39)\n"
     ]
    }
   ],
   "source": [
    "for elem in pooled_subjects:\n",
    "    print(elem.shape)"
   ]
  },
  {
   "cell_type": "code",
   "execution_count": 43,
   "id": "occupied-photographer",
   "metadata": {},
   "outputs": [
    {
     "name": "stdout",
     "output_type": "stream",
     "text": [
      "200\n"
     ]
    }
   ],
   "source": [
    "print(len(groups))"
   ]
  },
  {
   "cell_type": "code",
   "execution_count": 44,
   "id": "structured-defensive",
   "metadata": {
    "scrolled": false
   },
   "outputs": [
    {
     "name": "stdout",
     "output_type": "stream",
     "text": [
      "PROCESSING:  dtw\n"
     ]
    },
    {
     "name": "stderr",
     "output_type": "stream",
     "text": [
      "/home/fleetwood/miniconda3/lib/python3.6/site-packages/sklearn/svm/_base.py:983: ConvergenceWarning: Liblinear failed to converge, increase the number of iterations.\n",
      "  \"the number of iterations.\", ConvergenceWarning)\n",
      "/home/fleetwood/miniconda3/lib/python3.6/site-packages/sklearn/svm/_base.py:983: ConvergenceWarning: Liblinear failed to converge, increase the number of iterations.\n",
      "  \"the number of iterations.\", ConvergenceWarning)\n"
     ]
    },
    {
     "name": "stdout",
     "output_type": "stream",
     "text": [
      "PROCESSING:  correlation\n",
      "PROCESSING:  partial correlation\n",
      "PROCESSING:  tangent\n"
     ]
    }
   ],
   "source": [
    "from sklearn.svm import LinearSVC\n",
    "from sklearn.model_selection import StratifiedShuffleSplit\n",
    "from sklearn.metrics import accuracy_score\n",
    "from nilearn.connectome import ConnectivityMeasure\n",
    "import rust_dtw\n",
    "import numpy as np\n",
    "\n",
    "kinds = ['dtw', 'correlation', 'partial correlation', 'tangent']\n",
    "# kinds = ['correlation']\n",
    "_, classes = np.unique(groups, return_inverse=True)\n",
    "cv = StratifiedShuffleSplit(n_splits=15, random_state=0, test_size=5)\n",
    "pooled_subjects = np.asarray(pooled_subjects)\n",
    "\n",
    "scores = {}\n",
    "for kind in kinds:\n",
    "    print('PROCESSING: ', kind)\n",
    "    scores[kind] = []\n",
    "    for train, test in cv.split(pooled_subjects, classes):\n",
    "        if kind == 'dtw':\n",
    "#             Having to do it this way because there are different time series configurations in the provided\n",
    "#             data. Otherwise rust_dtw.dtw_connectomes would be easier\n",
    "            connectomes = []\n",
    "            for subj in pooled_subjects[train]:\n",
    "                connectomes.append(\n",
    "                    rust_dtw.dtw_connectome(\n",
    "                    connectome=subj,\n",
    "                    window=100, \n",
    "                    distance_mode=\"euclidean\")\n",
    "                )\n",
    "            test_connectomes = []\n",
    "            for subj in pooled_subjects[test]:\n",
    "                test_connectomes.append(\n",
    "                    rust_dtw.dtw_connectome(\n",
    "                    connectome=subj,\n",
    "                    window=100,  \n",
    "                    distance_mode=\"euclidean\")\n",
    "                )\n",
    "        else:\n",
    "            connectivity = ConnectivityMeasure(kind=kind, vectorize=True)\n",
    "            connectomes = connectivity.fit_transform(pooled_subjects[train])\n",
    "            test_connectomes = connectivity.transform(pooled_subjects[test])\n",
    "            \n",
    "        classifier = LinearSVC(max_iter=10000).fit(connectomes, classes[train])\n",
    "        # make predictions for the left-out test subjects\n",
    "        predictions = classifier.predict(test_connectomes)\n",
    "        \n",
    "        # store the accuracy for this cross-validation fold\n",
    "        scores[kind].append(accuracy_score(classes[test], predictions))"
   ]
  },
  {
   "cell_type": "code",
   "execution_count": 45,
   "id": "optical-satisfaction",
   "metadata": {},
   "outputs": [
    {
     "name": "stdout",
     "output_type": "stream",
     "text": [
      "[(0.6933333333333332, 'dtw'), (0.6400000000000001, 'correlation'), (0.6133333333333334, 'partial correlation'), (0.6933333333333332, 'tangent')]\n"
     ]
    },
    {
     "data": {
      "image/png": "[encoded data removed]",
      "text/plain": [
       "<Figure size 720x576 with 1 Axes>"
      ]
     },
     "metadata": {
      "needs_background": "light"
     },
     "output_type": "display_data"
    }
   ],
   "source": [
    "import matplotlib.pyplot as plt\n",
    "mean_scores = [np.mean(scores[kind]) for kind in kinds]\n",
    "print(list(zip(mean_scores, kinds) ))\n",
    "scores_std = [np.std(scores[kind]) for kind in kinds]\n",
    "\n",
    "plt.figure(figsize=(10, 8))\n",
    "positions = np.arange(len(kinds)) * .1 + .1\n",
    "plt.barh(positions, mean_scores, align='center', height=.05, xerr=scores_std)\n",
    "yticks = [k.replace(' ', '\\n') for k in kinds]\n",
    "plt.yticks(positions, yticks)\n",
    "plt.gca().grid(True)\n",
    "plt.gca().set_axisbelow(True)\n",
    "plt.gca().axvline(.8, color='red', linestyle='--')\n",
    "plt.xlabel('Classification accuracy\\n(red line = chance level)')\n",
    "plt.tight_layout()"
   ]
  },
  {
   "cell_type": "code",
   "execution_count": null,
   "id": "perfect-surveillance",
   "metadata": {},
   "outputs": [],
   "source": []
  }
 ],
 "metadata": {
  "kernelspec": {
   "display_name": "Python 3",
   "language": "python",
   "name": "python3"
  },
  "language_info": {
   "codemirror_mode": {
    "name": "ipython",
    "version": 3
   },
   "file_extension": ".py",
   "mimetype": "text/x-python",
   "name": "python",
   "nbconvert_exporter": "python",
   "pygments_lexer": "ipython3",
   "version": "3.6.10"
  }
 },
 "nbformat": 4,
 "nbformat_minor": 5
}
